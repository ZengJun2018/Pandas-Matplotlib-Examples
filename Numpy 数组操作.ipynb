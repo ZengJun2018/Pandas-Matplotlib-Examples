{
 "cells": [
  {
   "cell_type": "code",
   "execution_count": 4,
   "metadata": {
    "ExecuteTime": {
     "end_time": "2019-05-23T09:26:56.229888Z",
     "start_time": "2019-05-23T09:26:56.221398Z"
    }
   },
   "outputs": [
    {
     "name": "stdout",
     "output_type": "stream",
     "text": [
      "第一个数组：\n",
      "[0 1 2 3 4 5 6 7 8]\n",
      "\n",
      "\n",
      "将数组分为三个大小相等的子数组：\n",
      "[array([0, 1, 2]), array([3, 4, 5]), array([6, 7, 8])]\n",
      "\n",
      "\n",
      "将数组在一维数组中表明的位置分割：\n",
      "[array([0, 1, 2, 3]), array([4, 5, 6]), array([7, 8])]\n"
     ]
    }
   ],
   "source": [
    "import numpy as np \n",
    "\n",
    "a = np.arange(9) \n",
    "print ('第一个数组：') \n",
    "print (a) \n",
    "print ('\\n') \n",
    "print ('将数组分为三个大小相等的子数组：') \n",
    "b = np.split(a,3) \n",
    "print (b) \n",
    "print ('\\n') \n",
    "print ('将数组在一维数组中表明的位置分割：') \n",
    "b = np.split(a,[4,7]) \n",
    "print(b)"
   ]
  },
  {
   "cell_type": "code",
   "execution_count": 8,
   "metadata": {
    "ExecuteTime": {
     "end_time": "2019-05-23T09:34:05.455137Z",
     "start_time": "2019-05-23T09:34:05.443168Z"
    }
   },
   "outputs": [
    {
     "name": "stdout",
     "output_type": "stream",
     "text": [
      "原 array：\n",
      "[[5. 1. 1. 0. 2. 6.]\n",
      " [3. 3. 5. 2. 4. 3.]]\n",
      "拆分后：\n",
      "[[5.]\n",
      " [3.]]\n",
      "[[1.]\n",
      " [3.]]\n",
      "[[1.]\n",
      " [5.]]\n",
      "[[0.]\n",
      " [2.]]\n",
      "[[2.]\n",
      " [4.]]\n",
      "[[6.]\n",
      " [3.]]\n"
     ]
    }
   ],
   "source": [
    "import numpy as np \n",
    "\n",
    "harr = np.floor(10 * np.random.random((2, 6))) \n",
    "print ('原 array：') \n",
    "print(harr) \n",
    "print ('拆分后：') \n",
    "b = np.hsplit(harr, 6)\n",
    "for i in b:\n",
    "    print(i)"
   ]
  },
  {
   "cell_type": "code",
   "execution_count": null,
   "metadata": {},
   "outputs": [],
   "source": []
  }
 ],
 "metadata": {
  "kernelspec": {
   "display_name": "Python 3",
   "language": "python",
   "name": "python3"
  },
  "language_info": {
   "codemirror_mode": {
    "name": "ipython",
    "version": 3
   },
   "file_extension": ".py",
   "mimetype": "text/x-python",
   "name": "python",
   "nbconvert_exporter": "python",
   "pygments_lexer": "ipython3",
   "version": "3.6.5"
  },
  "toc": {
   "base_numbering": 1,
   "nav_menu": {},
   "number_sections": true,
   "sideBar": true,
   "skip_h1_title": false,
   "title_cell": "Table of Contents",
   "title_sidebar": "Contents",
   "toc_cell": false,
   "toc_position": {},
   "toc_section_display": true,
   "toc_window_display": false
  },
  "varInspector": {
   "cols": {
    "lenName": 16,
    "lenType": 16,
    "lenVar": 40
   },
   "kernels_config": {
    "python": {
     "delete_cmd_postfix": "",
     "delete_cmd_prefix": "del ",
     "library": "var_list.py",
     "varRefreshCmd": "print(var_dic_list())"
    },
    "r": {
     "delete_cmd_postfix": ") ",
     "delete_cmd_prefix": "rm(",
     "library": "var_list.r",
     "varRefreshCmd": "cat(var_dic_list()) "
    }
   },
   "types_to_exclude": [
    "module",
    "function",
    "builtin_function_or_method",
    "instance",
    "_Feature"
   ],
   "window_display": false
  }
 },
 "nbformat": 4,
 "nbformat_minor": 2
}
