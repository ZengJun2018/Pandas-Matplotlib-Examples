{
 "cells": [
  {
   "cell_type": "code",
   "execution_count": 42,
   "metadata": {},
   "outputs": [
    {
     "name": "stdout",
     "output_type": "stream",
     "text": [
      "数组的维数，即数组的秩: 1\n",
      "数组的维度信息: (24,)\n",
      "数组元素总个数: 24\n",
      "数组元素的类型: int32\n",
      "数组元素的占用字节大小: 4\n",
      "==========================================\n",
      "数组的维数，即数组的秩: 3\n",
      "数组的维度信息: (2, 4, 3)\n"
     ]
    }
   ],
   "source": [
    "import numpy as np\n",
    "\n",
    "# 数组元素的常见属性\n",
    "a = np.arange(24)\n",
    "print(f'数组的维数，即数组的秩: {a.ndim}')\n",
    "print(f'数组的维度信息: {a.shape}') \n",
    "print(f'数组元素总个数: {a.size}')\n",
    "print(f'数组元素的类型: {a.dtype}')\n",
    "print(f'数组元素的占用字节大小: {a.itemsize}')\n",
    "print('==========================================')\n"
   ]
  },
  {
   "cell_type": "code",
   "execution_count": 52,
   "metadata": {},
   "outputs": [
    {
     "name": "stdout",
     "output_type": "stream",
     "text": [
      "int32\n",
      "float64\n",
      "[ 3 -1 -2  0 12 10]\n",
      "[ 1.25 -9.6  42.  ]\n"
     ]
    }
   ],
   "source": [
    "# 改变数组元素的数据类型\n",
    "\n",
    "# from int to float\n",
    "arr = np.array([1, 2, 3, 4, 5])\n",
    "print(arr.dtype)  # default dtype is int32\n",
    "float_arr = arr.astype(np.float64)  # int32 to float64\n",
    "print(float_arr.dtype)\n",
    "\n",
    "# from float to int\n",
    "arr = np.array([3.7, -1.2, -2.6, 0.5, 12.9, 10.1])\n",
    "print(arr.astype(np.int32))  # decimal part was truncated\n",
    "\n",
    "# from strings srepresenting numbers to numeric form\n",
    "numeric_strings = np.array(['1.25', '-9.6', '42'], dtype = np.string_)\n",
    "print(numeric_strings.astype(np.float64))"
   ]
  },
  {
   "cell_type": "code",
   "execution_count": 34,
   "metadata": {
    "collapsed": true
   },
   "outputs": [
    {
     "name": "stdout",
     "output_type": "stream",
     "text": [
      "int32 [[          0           0]\n",
      " [ -748610448         597]\n",
      " [          0 -2147483648]]\n",
      "----------------------------------------------\n",
      "float64 [0. 0. 0. 0. 0.]\n",
      "int32 [0 0 0 0 0]\n",
      "[('x', '<i4'), ('y', '<i4')] [[(0, 0) (0, 0)]\n",
      " [(0, 0) (0, 0)]]\n",
      "----------------------------------------------\n",
      "[[10 10]\n",
      " [10 10]]\n",
      "int32 0\n",
      "int32 [0]\n",
      "[('x', '<i4'), ('y', '<i4')] [(0, 0) (0, 0)]\n"
     ]
    }
   ],
   "source": [
    "# 新创建数组元素\n",
    "\n",
    "# np.empty: Return a new array of given shape and type, without initializing entries.\n",
    "x = np.empty([3,2], dtype = int)  # shape:（3， 2），default value is random\n",
    "print (x.dtype, x)\n",
    "print('----------------------------------------------')\n",
    "\n",
    "# np.zeros： Return a new array of given shape and type, filled with zeros.\n",
    "# similar functions: ones\n",
    "x = np.zeros(5)  # default type is numpy.float64\n",
    "print(x.dtype, x)\n",
    "y = np.zeros((5,), dtype = np.int) \n",
    "print(y.dtype, y)\n",
    "z = np.zeros((2,2), dtype = [('x', 'i4'), ('y', 'i4')]) # 自定义类型\n",
    "print(z.dtype, z)\n",
    "print('----------------------------------------------')\n",
    "\n",
    "# np.full: Return a new array of given shape and type, filled with fill_value.\n",
    "x = np.full((2,2), 10)\n",
    "print(x)\n",
    "print('----------------------------------------------')\n",
    "\n",
    "# np.zeros_like: Return an array of zeros with the same shape and type as a given array.\n",
    "# empty_like: Return an empty array with shape and type of input.\n",
    "# ones_like: Return an array of ones with shape and type of input.\n",
    "# full_like: Return a new array with shape of input filled with value.\n",
    "\n",
    "x = np.zeros_like(5)  # default type is numpy.int32, same as ones_like\n",
    "print(x.dtype, x)\n",
    "y = np.zeros_like((5,), dtype = np.int) \n",
    "print(y.dtype, y)\n",
    "z = np.zeros_like((2,2), dtype = [('x', 'i4'), ('y', 'i4')]) # 自定义类型\n",
    "print(z.dtype, z)"
   ]
  },
  {
   "cell_type": "code",
   "execution_count": 40,
   "metadata": {},
   "outputs": [
    {
     "name": "stdout",
     "output_type": "stream",
     "text": [
      "[1 2 3] [1. 2. 3.] [(1, 2, 3) (4, 5)]\n",
      "<class 'numpy.ndarray'> <class 'numpy.ndarray'> <class 'numpy.ndarray'>\n",
      "[1 2 3] [1 2 3] [(1, 2, 3) (4, 5)]\n",
      "<class 'numpy.ndarray'> <class 'numpy.ndarray'> <class 'numpy.ndarray'>\n"
     ]
    }
   ],
   "source": [
    "# 从已有数据创建数组\n",
    "\n",
    "x = [1, 2, 3]\n",
    "y = (1, 2, 3)\n",
    "z = [(1,2,3),(4,5)] \n",
    "a = np.array(x)\n",
    "b = np.array(y)\n",
    "c = np.array(z)\n",
    "print(a, b, c)\n",
    "print(type(a), type(b), type(c))\n",
    "a = np.asarray(x)\n",
    "b = np.asarray(y)\n",
    "c = np.asarray(z)\n",
    "print(a, b, c)\n",
    "print(type(a), type(b), type(c))"
   ]
  },
  {
   "cell_type": "code",
   "execution_count": 62,
   "metadata": {},
   "outputs": [
    {
     "name": "stdout",
     "output_type": "stream",
     "text": [
      "[b'H' b'e' b'l' b'l' b'o' b' ' b'W' b'o' b'r' b'l' b'd']\n",
      "[b'e' b'l' b'l' b'o' b' ']\n"
     ]
    }
   ],
   "source": [
    "# 以流的形式读入数据，创建新数组\n",
    "# help(np.frombuffer)\n",
    "\n",
    "# 从字符串读入数组\n",
    "s = b'Hello World'  # buffer 是字符串的时候，Python3 默认 str 是 Unicode 类型，所以要转成 bytestring 在原 str 前加上 b\n",
    "a = np.frombuffer(s, dtype = 'S1')\n",
    "print(a)\n",
    "\n",
    "b = np.frombuffer(s, dtype='S1', count=5, offset=1)\n",
    "print(b)\n"
   ]
  },
  {
   "cell_type": "code",
   "execution_count": 100,
   "metadata": {},
   "outputs": [
    {
     "name": "stdout",
     "output_type": "stream",
     "text": [
      "[0 1 2 3 4]\n",
      "[10 12 14 16 18]\n",
      "-----------------------------\n",
      "[ 1.  2.  3.  4.  5.  6.  7.  8.  9. 10.]\n",
      "(array([ 1.,  2.,  3.,  4.,  5.,  6.,  7.,  8.,  9., 10.]), 1.0)\n",
      "(array([ 1. ,  1.1,  1.2,  1.3,  1.4,  1.5,  1.6,  1.7,  1.8,  1.9,  2. ,\n",
      "        2.1,  2.2,  2.3,  2.4,  2.5,  2.6,  2.7,  2.8,  2.9,  3. ,  3.1,\n",
      "        3.2,  3.3,  3.4,  3.5,  3.6,  3.7,  3.8,  3.9,  4. ,  4.1,  4.2,\n",
      "        4.3,  4.4,  4.5,  4.6,  4.7,  4.8,  4.9,  5. ,  5.1,  5.2,  5.3,\n",
      "        5.4,  5.5,  5.6,  5.7,  5.8,  5.9,  6. ,  6.1,  6.2,  6.3,  6.4,\n",
      "        6.5,  6.6,  6.7,  6.8,  6.9,  7. ,  7.1,  7.2,  7.3,  7.4,  7.5,\n",
      "        7.6,  7.7,  7.8,  7.9,  8. ,  8.1,  8.2,  8.3,  8.4,  8.5,  8.6,\n",
      "        8.7,  8.8,  8.9,  9. ,  9.1,  9.2,  9.3,  9.4,  9.5,  9.6,  9.7,\n",
      "        9.8,  9.9, 10. , 10.1, 10.2, 10.3, 10.4, 10.5, 10.6, 10.7, 10.8,\n",
      "       10.9, 11. , 11.1, 11.2, 11.3, 11.4, 11.5, 11.6, 11.7, 11.8, 11.9,\n",
      "       12. , 12.1, 12.2, 12.3, 12.4, 12.5, 12.6, 12.7, 12.8, 12.9, 13. ,\n",
      "       13.1, 13.2, 13.3, 13.4, 13.5, 13.6, 13.7, 13.8, 13.9, 14. , 14.1,\n",
      "       14.2, 14.3, 14.4, 14.5, 14.6, 14.7, 14.8, 14.9, 15. , 15.1, 15.2,\n",
      "       15.3, 15.4, 15.5, 15.6, 15.7, 15.8, 15.9, 16. , 16.1, 16.2, 16.3,\n",
      "       16.4, 16.5, 16.6, 16.7, 16.8, 16.9, 17. , 17.1, 17.2, 17.3, 17.4,\n",
      "       17.5, 17.6, 17.7, 17.8, 17.9, 18. , 18.1, 18.2, 18.3, 18.4, 18.5,\n",
      "       18.6, 18.7, 18.8, 18.9, 19. , 19.1, 19.2, 19.3, 19.4, 19.5, 19.6,\n",
      "       19.7, 19.8, 19.9, 20. ]), 0.1)\n",
      "[1.  1.9 2.8 3.7 4.6 5.5 6.4 7.3 8.2 9.1]\n",
      "-----------------------------------\n",
      "[ 10.          12.91549665  16.68100537  21.5443469   27.82559402\n",
      "  35.93813664  46.41588834  59.94842503  77.42636827 100.        ]\n"
     ]
    }
   ],
   "source": [
    "# 从数值范围创建数组\n",
    "# help(np.arange)\n",
    "\n",
    "x = np.arange(5)\n",
    "y = np.arange(10, 20 ,2)\n",
    "print(x)\n",
    "print(y)\n",
    "print('-----------------------------')\n",
    "\n",
    "# 创建一个由等差数列构成的一维数组\n",
    "# help(np.linspace)\n",
    "a = np.linspace(1, 10, 10)  # 起始值为1， 终止值为10， 数列个数为10\n",
    "print(a) \n",
    "a = np.linspace(1, 10, 10, retstep=True)  # 显示步长\n",
    "print(a)\n",
    "a = np.linspace(1, 20, 191, retstep=True) \n",
    "# 步长的计算：(20-1)/(191-1)\n",
    "print(b)\n",
    "a = np.linspace(1, 10, 10, endpoint=False)  # 不包含终止值\n",
    "print(a)\n",
    "print('-----------------------------------')"
   ]
  },
  {
   "cell_type": "code",
   "execution_count": 103,
   "metadata": {},
   "outputs": [
    {
     "name": "stdout",
     "output_type": "stream",
     "text": [
      "[ 10.          12.91549665  16.68100537  21.5443469   27.82559402\n",
      "  35.93813664  46.41588834  59.94842503  77.42636827 100.        ]\n",
      "[  1.   2.   4.   8.  16.  32.  64. 128. 256. 512.]\n",
      "[1.e+01 1.e+02 1.e+03 1.e+04 1.e+05 1.e+06 1.e+07 1.e+08 1.e+09 1.e+10\n",
      " 1.e+11 1.e+12 1.e+13 1.e+14 1.e+15 1.e+16 1.e+17 1.e+18 1.e+19 1.e+20]\n"
     ]
    }
   ],
   "source": [
    "# 创建一个由等差比数列构成的一维数组\n",
    "# logspace(start, stop, num=50, endpoint=True, base=10.0, dtype=None)\n",
    "# 序列起始值: base**start\n",
    "# 序列终止值: base**stop\n",
    "# 取对数时，log的下标\n",
    "a = np.logspace(1.0, 2.0, num=10)\n",
    "print(a)\n",
    "a = np.logspace(0, 9, 10, base=2)  # 将取对数的时候，log的下标由默认值10变为2\n",
    "print(a)"
   ]
  },
  {
   "cell_type": "code",
   "execution_count": 128,
   "metadata": {},
   "outputs": [
    {
     "name": "stdout",
     "output_type": "stream",
     "text": [
      "[2 4 6]\n",
      "[2 4 6]\n",
      "-----------------\n",
      "[[1 2 3]\n",
      " [3 4 5]\n",
      " [4 5 6]]\n",
      "6\n",
      "6\n",
      "[[3 4 5]\n",
      " [4 5 6]]\n",
      "[[1 2 3]\n",
      " [3 4 5]]\n",
      "[2 4 5]\n",
      "[ True  True  True]\n",
      "[3 4 5]\n",
      "[[2 3]\n",
      " [4 5]\n",
      " [5 6]]\n",
      "[[2 3]\n",
      " [4 5]]\n",
      "----------------\n",
      "[[1 0 0]\n",
      " [3 0 0]\n",
      " [4 0 0]]\n",
      "[[1 0 0]\n",
      " [3 0 0]\n",
      " [4 0 0]]\n"
     ]
    }
   ],
   "source": [
    "# 数组的切片 \n",
    "\n",
    "# 一维数组\n",
    "a = np.arange(10)\n",
    "s = slice(2, 7, 2)\n",
    "print(a[s])\n",
    "print(a[2:7:2])\n",
    "print(\"-----------------\")\n",
    "\n",
    "# 多维数组\n",
    "a = np.array([[1,2,3],[3,4,5],[4,5,6]])\n",
    "print(a)\n",
    "print(a[2,2])\n",
    "print(a[2,2])\n",
    "print(a[1:])  # 第2，3行数据\n",
    "print(a[:2])  # 取前2行数据\n",
    "print(a[...,1])   # 第2列元素\n",
    "print(a[...,1] == a[:, 1])\n",
    "print(a[1,...])   # 第2行元素\n",
    "print(a[...,1:])  # 第2列及剩下的所有元素\n",
    "print(a[:2, 1:]) # 多个切片，取前2行的第1列后的数据\n",
    "\n",
    "print('----------------')\n",
    "# 数组切片是原始数组的视图。这意味着数据不会被复制，视\n",
    "# 图上的任何修改都会直接反映到源数组上。\n",
    "b = a[...,1:]\n",
    "b[:] = 0\n",
    "print(a)\n",
    "c = a[..., 1:].copy() # 使用copy方法可以传递复制的数组对象\n",
    "c[:] = 1\n",
    "print(a)"
   ]
  },
  {
   "cell_type": "code",
   "execution_count": 137,
   "metadata": {
    "scrolled": true
   },
   "outputs": [
    {
     "name": "stdout",
     "output_type": "stream",
     "text": [
      "[[-0.61320721  1.28963858 -0.32948188 -1.52886162]\n",
      " [ 0.10640482  0.73673022 -0.46532478  0.89463231]\n",
      " [-0.54977783 -1.00271423 -0.73690536 -0.70319176]\n",
      " [-0.69923779  0.50090788  0.60464217 -0.10811821]\n",
      " [-0.28664286  0.75127237 -1.19579396  0.82060135]\n",
      " [-0.20242193 -0.21179038 -1.36273035  0.51545939]\n",
      " [ 0.94961831  0.22313998  0.62802133 -1.58001794]]\n",
      "----------------\n",
      "[[-0.61320721  1.28963858 -0.32948188 -1.52886162]\n",
      " [-0.69923779  0.50090788  0.60464217 -0.10811821]]\n",
      "[[ 0.10640482  0.73673022 -0.46532478  0.89463231]\n",
      " [-0.54977783 -1.00271423 -0.73690536 -0.70319176]\n",
      " [-0.28664286  0.75127237 -1.19579396  0.82060135]\n",
      " [-0.20242193 -0.21179038 -1.36273035  0.51545939]\n",
      " [ 0.94961831  0.22313998  0.62802133 -1.58001794]]\n",
      "----------------\n",
      "[[0.         1.28963858 0.         0.        ]\n",
      " [0.10640482 0.73673022 0.         0.89463231]\n",
      " [0.         0.         0.         0.        ]\n",
      " [0.         0.50090788 0.60464217 0.        ]\n",
      " [0.         0.75127237 0.         0.82060135]\n",
      " [0.         0.         0.         0.51545939]\n",
      " [0.94961831 0.22313998 0.62802133 0.        ]]\n",
      "[[7.         7.         7.         7.        ]\n",
      " [0.10640482 0.73673022 0.         0.89463231]\n",
      " [7.         7.         7.         7.        ]\n",
      " [7.         7.         7.         7.        ]\n",
      " [7.         7.         7.         7.        ]\n",
      " [0.         0.         0.         0.51545939]\n",
      " [0.94961831 0.22313998 0.62802133 0.        ]]\n"
     ]
    }
   ],
   "source": [
    "# 布尔型索引\n",
    "# 通过布尔型索引选取数组中的数据，将总是创建数据的副本，即使返回一模一样的数组也是如此。\n",
    "\n",
    "names = np.array(['Bob', 'Joe', 'Will', 'Bob', 'Will', 'Joe', 'Joe'])\n",
    "data = np.random.randn(7, 4)\n",
    "names == 'Bob' \n",
    "print(data)\n",
    "print('----------------')\n",
    "print(data[names == 'Bob'])  #  筛选出names中等于'Bob'的元素\n",
    "print(data[~(names == 'Bob')])  #  用~ 或者 != 反转条件\n",
    "\n",
    "print('----------------')\n",
    "data[data < 0] = 0   # 利用布尔型索引对数组中的数据赋值\n",
    "print(data)\n",
    "data[names != 'Joe'] = 7\n",
    "print(data)"
   ]
  },
  {
   "cell_type": "code",
   "execution_count": 55,
   "metadata": {
    "ExecuteTime": {
     "end_time": "2019-05-23T07:01:19.790938Z",
     "start_time": "2019-05-23T07:01:19.781003Z"
    }
   },
   "outputs": [
    {
     "name": "stdout",
     "output_type": "stream",
     "text": [
      "[0 1 2 3 4 5 6 7]\n",
      "[[0 1]\n",
      " [2 3]\n",
      " [4 5]\n",
      " [6 7]]\n",
      "[[[0 1 2 3]\n",
      "  [4 5 6 7]]]\n",
      "(1, 2, 4)\n",
      "[0 1 2 3 4 5 6 7]\n",
      "[0 1 2 3 4 5 6 7]\n"
     ]
    }
   ],
   "source": [
    "# 数组的重塑\n",
    "\n",
    "arr = np.arange(8)\n",
    "print(arr)\n",
    "b = arr.reshape((4,2))  # 返回新的数组，维度为（4，2）\n",
    "print(b)\n",
    "c = b.reshape((1, 2, -1))  # -1表示这个值由数组本身来推断\n",
    "print(c)\n",
    "print(c.shape)\n",
    "d = c.ravel()  # 将数组扁平化为1维\n",
    "e = c.flatten() # same as ravel()\n",
    "print(d)\n",
    "print(e)"
   ]
  },
  {
   "cell_type": "code",
   "execution_count": 29,
   "metadata": {
    "ExecuteTime": {
     "end_time": "2019-05-23T06:16:07.600311Z",
     "start_time": "2019-05-23T06:16:07.577330Z"
    }
   },
   "outputs": [
    {
     "name": "stdout",
     "output_type": "stream",
     "text": [
      "[[1 2]\n",
      " [3 4]\n",
      " [5 6]]\n",
      "[1 4 5]\n",
      "[ 0  4  8 16]\n",
      "-------------------\n",
      "[[ 0  1  2]\n",
      " [ 3  4  5]\n",
      " [ 6  7  8]\n",
      " [ 9 10 11]]\n",
      "此数组中四个角的元素为：\n",
      "[[ 0 11]\n",
      " [ 9 11]]\n",
      "-------------------\n",
      "[[1 2 3]\n",
      " [4 5 6]\n",
      " [7 8 9]]\n",
      "[[5 6]\n",
      " [8 9]]\n",
      "[[5 6]\n",
      " [8 9]]\n",
      "[[2 3]\n",
      " [5 6]\n",
      " [8 9]]\n",
      "<class 'numpy.ndarray'>\n",
      "[[0 0]\n",
      " [0 0]\n",
      " [0 0]]\n",
      "[[1 0 0]\n",
      " [4 0 0]\n",
      " [7 0 0]]\n"
     ]
    }
   ],
   "source": [
    "# numpy的高级索引\n",
    "\n",
    "# 整数数组索引， 总是返回新数组\n",
    "x = np.array([[1,2], [3, 4], [5, 6]])\n",
    "print(x)\n",
    "y = x[[0,1,2], [0,1,0]]  # 选取数组中(0, 0), (1, 1), (2, 0)位置处的元素\n",
    "print(y)  # 输出一个一维的数组\n",
    "\n",
    "x = np.array([i*2 for i in range(20)])\n",
    "y = x[[0, 2, 4, 8]]  # 索引为一个一维列表，获取数组下标为0，2，4，8的元素\n",
    "print(y)\n",
    "print('-------------------')\n",
    "\n",
    "\n",
    "# 获取一个4×3数组中四个角的元素,行索引是 [0,0] 和 [3,3]，而列索引是 [0,2] 和 [0,2]\n",
    "x = np.array([[0,  1,  2], [3,  4,  5], [6,  7,  8], [9,  10,  11]])\n",
    "print(x)\n",
    "rows = np.array([[0,3], [3, 3]])\n",
    "cols = np.array([[0, 2], [0, 2]])\n",
    "y = x[rows, cols]\n",
    "print(f'此数组中四个角的元素为：\\n{y}')\n",
    "print('-------------------')\n",
    "\n",
    "\n",
    "# 组合索引,返回一个视图\n",
    "a = np.array([[1,2,3], [4,5,6],[7,8,9]])\n",
    "b = a[1:3, 1:3]\n",
    "c = a[1:3,[1,2]]\n",
    "d = a[...,1:]\n",
    "print(a)\n",
    "print(b)\n",
    "print(c)\n",
    "print(d)\n",
    "d[:] = 0  # 将d中元素全部置0\n",
    "print(d)\n",
    "print(a)\n"
   ]
  },
  {
   "cell_type": "code",
   "execution_count": 38,
   "metadata": {
    "ExecuteTime": {
     "end_time": "2019-05-23T06:22:39.597743Z",
     "start_time": "2019-05-23T06:22:39.581646Z"
    },
    "collapsed": true
   },
   "outputs": [
    {
     "name": "stdout",
     "output_type": "stream",
     "text": [
      "[[0. 0. 0. 0.]\n",
      " [1. 1. 1. 1.]\n",
      " [2. 2. 2. 2.]\n",
      " [3. 3. 3. 3.]\n",
      " [4. 4. 4. 4.]\n",
      " [5. 5. 5. 5.]\n",
      " [6. 6. 6. 6.]\n",
      " [7. 7. 7. 7.]]\n",
      "------------------------\n",
      "[[4. 4. 4. 4.]\n",
      " [3. 3. 3. 3.]\n",
      " [0. 0. 0. 0.]\n",
      " [6. 6. 6. 6.]]\n",
      "------------------------\n",
      "[[5. 5. 5. 5.]\n",
      " [3. 3. 3. 3.]\n",
      " [1. 1. 1. 1.]]\n",
      "------------------------\n",
      "[[ 0  1  2  3]\n",
      " [ 4  5  6  7]\n",
      " [ 8  9 10 11]\n",
      " [12 13 14 15]\n",
      " [16 17 18 19]\n",
      " [20 21 22 23]\n",
      " [24 25 26 27]\n",
      " [28 29 30 31]] \n",
      "\n",
      "[ 4 23 29 10] \n",
      "\n",
      "[[ 4  7  5  6]\n",
      " [20 23 21 22]\n",
      " [28 31 29 30]\n",
      " [ 8 11  9 10]] \n",
      "\n",
      "[[0 0 0 0]\n",
      " [0 0 0 0]\n",
      " [0 0 0 0]\n",
      " [0 0 0 0]] \n",
      "\n",
      "[[ 0  1  2  3]\n",
      " [ 4  5  6  7]\n",
      " [ 8  9 10 11]\n",
      " [12 13 14 15]\n",
      " [16 17 18 19]\n",
      " [20 21 22 23]\n",
      " [24 25 26 27]\n",
      " [28 29 30 31]]\n"
     ]
    }
   ],
   "source": [
    "# 花式索引\n",
    "\n",
    "# 花式索引，指的是利用整数数组进行索引\n",
    "# 无论原数组为几维，返回的总是一维数组\n",
    "# 与切片不同，总会将数组元素复制到新的数组\n",
    "\n",
    "arr = np.empty((8,4))\n",
    "for i in range(8):\n",
    "    arr[i] = i\n",
    "print(arr)\n",
    "print('------------------------')\n",
    "b = arr[[4, 3, 0, 6]]  # 按照列表内元素的顺序，选择下标为4，3，0，6的行\n",
    "print(b)\n",
    "print('------------------------')\n",
    "c = arr[[-3, -5, -7]]  # 利用负数索引选取\n",
    "print(c)\n",
    "print('------------------------')\n",
    "\n",
    "arr = np.arange(32).reshape(8, 4)  # 利用多维整数数组进行索引\n",
    "print(arr, '\\n')\n",
    "b = arr[[1, 5, 7, 2], [0, 3, 1, 2]]  # 返回一维数组，元素为(1,0), (5, 3), (7, 1), (2, 2)\n",
    "print(b, '\\n')\n",
    "c = arr[[1, 5, 7, 2]][:, [0, 3, 1, 2]]  \n",
    "print(c, '\\n')\n",
    "c[:] = 0\n",
    "print(c, '\\n')\n",
    "print(arr)\n"
   ]
  },
  {
   "cell_type": "code",
   "execution_count": 47,
   "metadata": {
    "ExecuteTime": {
     "end_time": "2019-05-23T06:26:31.566999Z",
     "start_time": "2019-05-23T06:26:31.558003Z"
    }
   },
   "outputs": [
    {
     "name": "stdout",
     "output_type": "stream",
     "text": [
      "[[ 0  1  2  3]\n",
      " [ 4  5  6  7]\n",
      " [ 8  9 10 11]\n",
      " [12 13 14 15]\n",
      " [16 17 18 19]\n",
      " [20 21 22 23]\n",
      " [24 25 26 27]\n",
      " [28 29 30 31]]\n",
      "\n",
      "\n",
      "[[ 4  5]\n",
      " [ 8  9]\n",
      " [12 13]\n",
      " [16 17]]\n",
      "\n",
      "\n",
      "[[ 4  5  6  7]\n",
      " [20 21 22 23]\n",
      " [28 29 30 31]\n",
      " [ 8  9 10 11]]\n",
      "\n",
      "\n",
      "[[ 0  1  2  3]\n",
      " [ 0  0  6  7]\n",
      " [ 0  0 10 11]\n",
      " [ 0  0 14 15]\n",
      " [ 0  0 18 19]\n",
      " [20 21 22 23]\n",
      " [24 25 26 27]\n",
      " [28 29 30 31]]\n",
      "\n",
      "\n",
      "[[ 0  1  2  3]\n",
      " [ 0  0  6  7]\n",
      " [ 0  0 10 11]\n",
      " [ 0  0 14 15]\n",
      " [ 0  0 18 19]\n",
      " [20 21 22 23]\n",
      " [24 25 26 27]\n",
      " [28 29 30 31]]\n"
     ]
    }
   ],
   "source": [
    "# 数组的切片与整数数组索引的区别\n",
    "\n",
    "arr = np.arange(32).reshape(8, 4)\n",
    "print(arr)\n",
    "print('\\n')\n",
    "b = arr[1:5, :2]  # 返回切片\n",
    "print(b)\n",
    "print('\\n')\n",
    "c = arr[[1, 5, 7, 2]]  # 返回新数组\n",
    "print(c)\n",
    "print('\\n')\n",
    "\n",
    "b[:] = 0\n",
    "print(arr)  # 行、列式索引影响原数组\n",
    "print('\\n')\n",
    "\n",
    "c[:] = 1\n",
    "print(arr)  # 整数数组索引不影响原数组\n"
   ]
  },
  {
   "cell_type": "code",
   "execution_count": null,
   "metadata": {},
   "outputs": [],
   "source": []
  }
 ],
 "metadata": {
  "kernelspec": {
   "display_name": "Python 3",
   "language": "python",
   "name": "python3"
  },
  "language_info": {
   "codemirror_mode": {
    "name": "ipython",
    "version": 3
   },
   "file_extension": ".py",
   "mimetype": "text/x-python",
   "name": "python",
   "nbconvert_exporter": "python",
   "pygments_lexer": "ipython3",
   "version": "3.6.5"
  },
  "toc": {
   "base_numbering": 1,
   "nav_menu": {},
   "number_sections": true,
   "sideBar": true,
   "skip_h1_title": false,
   "title_cell": "Table of Contents",
   "title_sidebar": "Contents",
   "toc_cell": false,
   "toc_position": {},
   "toc_section_display": true,
   "toc_window_display": false
  },
  "varInspector": {
   "cols": {
    "lenName": 16,
    "lenType": 16,
    "lenVar": 40
   },
   "kernels_config": {
    "python": {
     "delete_cmd_postfix": "",
     "delete_cmd_prefix": "del ",
     "library": "var_list.py",
     "varRefreshCmd": "print(var_dic_list())"
    },
    "r": {
     "delete_cmd_postfix": ") ",
     "delete_cmd_prefix": "rm(",
     "library": "var_list.r",
     "varRefreshCmd": "cat(var_dic_list()) "
    }
   },
   "types_to_exclude": [
    "module",
    "function",
    "builtin_function_or_method",
    "instance",
    "_Feature"
   ],
   "window_display": false
  }
 },
 "nbformat": 4,
 "nbformat_minor": 2
}
